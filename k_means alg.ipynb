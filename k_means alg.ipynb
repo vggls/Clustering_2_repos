{
 "cells": [
  {
   "cell_type": "code",
   "execution_count": 1,
   "metadata": {},
   "outputs": [],
   "source": [
    "import numpy as np\n",
    "import matplotlib.pyplot as plt"
   ]
  },
  {
   "cell_type": "markdown",
   "metadata": {},
   "source": [
    "In K-means algorithm we aim to minimize the below **objective function** with respect to r and μ, where r are the coefficients which indicate the cluster that each datapoint belongs to, x are the datapoints and μ are the cluster centers :"
   ]
  },
  {
   "attachments": {
    "image.png": {
     "image/png": "[encoded data removed]"
    }
   },
   "cell_type": "markdown",
   "metadata": {},
   "source": [
    "![image.png](attachment:image.png)"
   ]
  },
  {
   "cell_type": "markdown",
   "metadata": {},
   "source": [
    "The algorithm is based on the following two update steps which iterate  until convergence (ie. centers do not change \"much\") is achieved. \n",
    "\n",
    "Formula (9.2) determines the \"clusters update step\" by assigning each point to the cluster with the closest center. "
   ]
  },
  {
   "attachments": {
    "image.png": {
     "image/png": "[encoded data removed]"
    }
   },
   "cell_type": "markdown",
   "metadata": {},
   "source": [
    "![image.png](attachment:image.png)"
   ]
  },
  {
   "cell_type": "markdown",
   "metadata": {},
   "source": [
    "Formula (9.4) determines the \"centers update step\" by computing the mean of all points in the cluster."
   ]
  },
  {
   "attachments": {
    "image.png": {
     "image/png": "[encoded data removed]"
    }
   },
   "cell_type": "markdown",
   "metadata": {},
   "source": [
    "![image.png](attachment:image.png)"
   ]
  },
  {
   "cell_type": "code",
   "execution_count": 2,
   "metadata": {},
   "outputs": [],
   "source": [
    "def kmeans(X,K):\n",
    "    \n",
    "    '''\n",
    "    inputs : X = 2-dim array dataset\n",
    "             K = the number of clusters\n",
    "    outputs : c_new = are the final cluster centers\n",
    "              labels = labels of the datapoints \n",
    "              fig = figure showing the dataset, the locations of the initially randomly chosen cluster centers and \n",
    "                    the locations of the final cluster centers determinded by the algorithm\n",
    "    '''\n",
    "    r = np.zeros(shape = (X[:,0].size, K))\n",
    "    c_old = np.zeros((K,2))\n",
    "    \n",
    "    # choose random cluster centers\n",
    "    xmax = max(abs(X[:,0]))\n",
    "    ymax = max(abs(X[:,1]))\n",
    "    l = max(xmax, ymax)\n",
    "\n",
    "    side_length = l+1\n",
    "    cx = np.random.random(K)*side_length\n",
    "    cy = np.random.random(K)*side_length\n",
    "\n",
    "    cx = np.reshape(cx, (cx.size,1))\n",
    "    cy = np.reshape(cy, (cy.size,1))\n",
    "    c_random = np.concatenate((cx,cy), axis = 1)\n",
    "    c_new = np.concatenate((cx,cy), axis = 1)\n",
    "    #print('initial randomly chosen centers : ', c_new)\n",
    "    \n",
    "    while np.linalg.norm(c_new - c_old) > 0.0001 :\n",
    "    \n",
    "        c_old = c_new\n",
    "\n",
    "        # update clusters - formula (9.2)\n",
    "        for i in range(X.shape[0]) :\n",
    "            ar = np.array([])\n",
    "            for k in range(K) :\n",
    "                ar = np.append(ar,np.linalg.norm(X[i]-c_new[k]))\n",
    "            j = np.argmin(ar)\n",
    "            r[i][j] = 1\n",
    "\n",
    "        # update centers - formula (9.4)\n",
    "        for i in range(K) :\n",
    "            if np.sum(r[:,i]) == 0 :\n",
    "                continue\n",
    "            else :\n",
    "                v = np.reshape(r[:,i], (r[:,i].size,1))\n",
    "                c_new[i] = sum(v*X) / np.sum(r[:,i])\n",
    "    \n",
    "    labels = np.where(r==1)[1]\n",
    "    labels = np.reshape(labels,(labels.size,1))\n",
    "    \n",
    "    fig, ax = plt.subplots()\n",
    "    ax.scatter(X[:,0], X[:,1], color = 'lightblue')\n",
    "    ax.scatter(c_random[:,0], c_random[:,1], color = 'black', marker = '*', label='initial random cluster centers')\n",
    "    ax.scatter(c_new[:,0], c_new[:,1], color = 'blue', marker = '*', label='final cluster centers')\n",
    "    ax.legend(loc='best')\n",
    "    plt.close()\n",
    "        \n",
    "    return c_new, labels, fig"
   ]
  },
  {
   "cell_type": "code",
   "execution_count": null,
   "metadata": {},
   "outputs": [],
   "source": []
  }
 ],
 "metadata": {
  "kernelspec": {
   "display_name": "Python 3",
   "language": "python",
   "name": "python3"
  },
  "language_info": {
   "codemirror_mode": {
    "name": "ipython",
    "version": 3
   },
   "file_extension": ".py",
   "mimetype": "text/x-python",
   "name": "python",
   "nbconvert_exporter": "python",
   "pygments_lexer": "ipython3",
   "version": "3.7.3"
  }
 },
 "nbformat": 4,
 "nbformat_minor": 2
}
