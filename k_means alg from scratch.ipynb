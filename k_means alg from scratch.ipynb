{
 "cells": [
  {
   "cell_type": "markdown",
   "metadata": {},
   "source": [
    "In K-means algorithm we aim to minimize the below **objective function** with respect to r and μ, where r are the coefficients which indicate the cluster that each datapoint belongs to, x are the datapoints and μ are the cluster centers :"
   ]
  },
  {
   "cell_type": "markdown",
   "metadata": {},
   "source": [
    "![kmeans_objective](https://user-images.githubusercontent.com/55101427/89711984-75a08f80-d996-11ea-9c20-7922eb3f5ec6.png)"
   ]
  },
  {
   "cell_type": "markdown",
   "metadata": {},
   "source": [
    "The algorithm is based on the following two update steps which iterate  until convergence is achieved (ie. until centers do not change \"much\"). \n",
    "\n",
    "The below formula determines the **\"clusters update step\"** by assigning each point to the cluster with the closest center. "
   ]
  },
  {
   "cell_type": "markdown",
   "metadata": {},
   "source": [
    "![kmeans_clustersupdate](https://user-images.githubusercontent.com/55101427/89712026-d0d28200-d996-11ea-89c0-2ee70bc4af62.png)"
   ]
  },
  {
   "cell_type": "markdown",
   "metadata": {},
   "source": [
    "The below formula determines the **\"centers update step\"** by computing the mean of all points in the cluster. Note that the denominator is equal to the number of points assigned to cluster k."
   ]
  },
  {
   "cell_type": "markdown",
   "metadata": {},
   "source": [
    "![kmeans_centersupdate](https://user-images.githubusercontent.com/55101427/89712037-e0ea6180-d996-11ea-8910-6145d7f5f211.png)"
   ]
  },
  {
   "cell_type": "code",
   "execution_count": 2,
   "metadata": {},
   "outputs": [],
   "source": [
    "import numpy as np\n",
    "import matplotlib.pyplot as plt"
   ]
  },
  {
   "cell_type": "code",
   "execution_count": 3,
   "metadata": {},
   "outputs": [],
   "source": [
    "def kmeans(X,K):\n",
    "    \n",
    "    '''\n",
    "    inputs : X = 2-dim array dataset\n",
    "             K = the number of clusters\n",
    "    outputs : mu_new = the final cluster centers\n",
    "              labels = labels of the datapoints \n",
    "              fig = figure showing the dataset, the locations of the initially randomly chosen cluster centers and \n",
    "                    the locations of the final cluster centers determinded by the algorithm\n",
    "    '''\n",
    "    r = np.zeros(shape = (X[:,0].size, K))\n",
    "    mu_old = np.zeros((K,2))\n",
    "    \n",
    "    # choose random cluster centers\n",
    "    xmax = max(abs(X[:,0]))\n",
    "    ymax = max(abs(X[:,1]))\n",
    "    l = max(xmax, ymax)\n",
    "    \n",
    "    side_length = round(l)\n",
    "    \n",
    "    z = np.random.choice( np.concatenate((np.random.random(3),-np.random.random(3))) ,3, replace = False)\n",
    "    cx = z*side_length\n",
    "\n",
    "    w = np.random.choice( np.concatenate((np.random.random(3),-np.random.random(3))) ,3, replace = False)\n",
    "    cy = w*side_length\n",
    "\n",
    "    cx = np.reshape(cx, (cx.size,1))\n",
    "    cy = np.reshape(cy, (cy.size,1))\n",
    "    mu_random = np.concatenate((cx,cy), axis = 1)\n",
    "    mu_new = np.concatenate((cx,cy), axis = 1)\n",
    "    \n",
    "    while np.linalg.norm(mu_new - mu_old) > 0.0001 :\n",
    "    \n",
    "        mu_old = mu_new\n",
    "\n",
    "        # update clusters - see formula above\n",
    "        for i in range(X.shape[0]) :\n",
    "            ar = np.array([])\n",
    "            for k in range(K) :\n",
    "                ar = np.append(ar,np.linalg.norm(X[i]-mu_new[k]))\n",
    "            j = np.argmin(ar)\n",
    "            r[i][j] = 1\n",
    "\n",
    "        # update centers - see formula above\n",
    "        for i in range(K) :\n",
    "            if np.sum(r[:,i]) == 0 :\n",
    "                continue\n",
    "            else :\n",
    "                v = np.reshape(r[:,i], (r[:,i].size,1))\n",
    "                mu_new[i] = sum(v*X) / np.sum(r[:,i])\n",
    "    \n",
    "    labels = np.where(r==1)[1]\n",
    "    #labels = np.reshape(labels,(labels.size,1))\n",
    "    \n",
    "    fig, ax = plt.subplots()\n",
    "    ax.scatter(X[:,0], X[:,1], color = 'lightblue')\n",
    "    ax.scatter(mu_random[:,0], mu_random[:,1], color = 'black', marker = '*', label='initial random cluster centers')\n",
    "    ax.scatter(mu_new[:,0], mu_new[:,1], color = 'blue', marker = '*', label='final cluster centers')\n",
    "    ax.legend(loc='best')\n",
    "    plt.close()\n",
    "        \n",
    "    return mu_new, labels, fig"
   ]
  },
  {
   "cell_type": "code",
   "execution_count": null,
   "metadata": {},
   "outputs": [],
   "source": []
  }
 ],
 "metadata": {
  "kernelspec": {
   "display_name": "Python 3",
   "language": "python",
   "name": "python3"
  },
  "language_info": {
   "codemirror_mode": {
    "name": "ipython",
    "version": 3
   },
   "file_extension": ".py",
   "mimetype": "text/x-python",
   "name": "python",
   "nbconvert_exporter": "python",
   "pygments_lexer": "ipython3",
   "version": "3.7.3"
  }
 },
 "nbformat": 4,
 "nbformat_minor": 2
}
